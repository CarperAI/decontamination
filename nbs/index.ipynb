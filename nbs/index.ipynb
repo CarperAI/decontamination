{
 "cells": [
  {
   "cell_type": "code",
   "execution_count": null,
   "metadata": {},
   "outputs": [
    {
     "name": "stderr",
     "output_type": "stream",
     "text": [
      "/home/nathan/miniconda3/envs/decontamination/lib/python3.10/site-packages/tqdm/auto.py:22: TqdmWarning: IProgress not found. Please update jupyter and ipywidgets. See https://ipywidgets.readthedocs.io/en/stable/user_install.html\n",
      "  from .autonotebook import tqdm as notebook_tqdm\n"
     ]
    }
   ],
   "source": [
    "#| hide\n",
    "import datasets\n",
    "import os\n",
    "\n",
    "datasets.logging.set_verbosity_error()\n",
    "os.environ[\"HF_ACCESS_TOKEN\"] = \"<TOKEN>\""
   ]
  },
  {
   "cell_type": "markdown",
   "metadata": {},
   "source": [
    "# decontamination\n",
    "\n",
    "> This repository contains code for cleaning your training data of benchmark data to help combat data snooping."
   ]
  },
  {
   "attachments": {},
   "cell_type": "markdown",
   "metadata": {},
   "source": [
    "This repository is heavily inspired by the [BigCode repository](https://github.com/bigcode-project/bigcode-analysis/tree/main/data_analysis/decontamination) and is mostly a refactoring of their code. Specifically, the main person who worked on this repository is [Chenghao Mou](https://github.com/ChenghaoMou) (Awesome work!)."
   ]
  },
  {
   "cell_type": "markdown",
   "metadata": {},
   "source": [
    "## Install"
   ]
  },
  {
   "cell_type": "markdown",
   "metadata": {},
   "source": [
    "```sh\n",
    "pip install decontamination\n",
    "```"
   ]
  },
  {
   "cell_type": "markdown",
   "metadata": {},
   "source": [
    "## How to use"
   ]
  },
  {
   "attachments": {},
   "cell_type": "markdown",
   "metadata": {},
   "source": [
    "First you need to specify which benchmarks you want to clean your data of. You can do this by creating dictionary with the benchmark name in huggingface's datasets repository as the key and the name of the column containing the benchmark data as the value. For example, if you want to clean your data of the `HumanEval` and `LAMBADA` benchmarks, you would do the following:"
   ]
  },
  {
   "cell_type": "code",
   "execution_count": null,
   "metadata": {},
   "outputs": [],
   "source": [
    "!export HF_ACCESS_TOKEN=<TOKEN>"
   ]
  },
  {
   "cell_type": "code",
   "execution_count": null,
   "metadata": {},
   "outputs": [
    {
     "data": {
      "text/html": [
       "<pre style=\"white-space:pre;overflow-x:auto;line-height:normal;font-family:Menlo,'DejaVu Sans Mono',consolas,'Courier New',monospace\"><span style=\"color: #7fbfbf; text-decoration-color: #7fbfbf\">[01/24/23 00:27:37] </span><span style=\"color: #000080; text-decoration-color: #000080\">INFO    </span> Benchmark datasets already exist. Skipping hashing.                        <a href=\"file:///work/decontamination/decontamination/core.py\" target=\"_blank\"><span style=\"color: #7f7f7f; text-decoration-color: #7f7f7f\">core.py</span></a><span style=\"color: #7f7f7f; text-decoration-color: #7f7f7f\">:</span><a href=\"file:///work/decontamination/decontamination/core.py#181\" target=\"_blank\"><span style=\"color: #7f7f7f; text-decoration-color: #7f7f7f\">181</span></a>\n",
       "</pre>\n"
      ],
      "text/plain": [
       "\u001b[2;36m[01/24/23 00:27:37]\u001b[0m\u001b[2;36m \u001b[0m\u001b[34mINFO    \u001b[0m Benchmark datasets already exist. Skipping hashing.                        \u001b]8;id=587916;file:///work/decontamination/decontamination/core.py\u001b\\\u001b[2mcore.py\u001b[0m\u001b]8;;\u001b\\\u001b[2m:\u001b[0m\u001b]8;id=20631;file:///work/decontamination/decontamination/core.py#181\u001b\\\u001b[2m181\u001b[0m\u001b]8;;\u001b\\\n"
      ]
     },
     "metadata": {},
     "output_type": "display_data"
    },
    {
     "name": "stderr",
     "output_type": "stream",
     "text": [
      "/home/nathan/miniconda3/envs/decontamination/lib/python3.10/site-packages/datasets/arrow_dataset.py:1533: FutureWarning: 'fs' was is deprecated in favor of 'storage_options' in version 2.8.0 and will be removed in 3.0.0.\n",
      "You can remove this warning by passing 'storage_options=fs.storage_options' instead.\n",
      "  warnings.warn(\n",
      "Checking for false positives...: 100%|██████████| 8636/8636 [00:33<00:00, 261.25it/s]\n",
      "Checking for false positives...: 100%|██████████| 8805/8805 [06:58<00:00, 21.06it/s]\n",
      "Checking for false positives...: 100%|██████████| 8722/8722 [06:39<00:00, 21.82it/s]\n",
      "Filtering duplicates... #0: 100%|██████████| 1/1 [00:00<00:00, 140.36ba/s]\n",
      "\n",
      "Filtering duplicates... #1: 100%|██████████| 1/1 [00:00<00:00, 123.28ba/s]\n",
      "Filtering duplicates... #2: 100%|██████████| 1/1 [00:00<00:00, 169.47ba/s]\n",
      "\n",
      "\n",
      "\u001b[A\u001b[A\n",
      "\n",
      "\n",
      "Filtering duplicates... #3: 100%|██████████| 1/1 [00:00<00:00, 141.77ba/s]\n",
      "\n",
      "\n",
      "\n",
      "\n",
      "Filtering duplicates... #4: 100%|██████████| 1/1 [00:00<00:00, 142.31ba/s]\n",
      "\n",
      "\n",
      "\n",
      "\n",
      "\n",
      "Filtering duplicates... #5: 100%|██████████| 1/1 [00:00<00:00, 139.13ba/s]\n",
      "\n",
      "\n",
      "\n",
      "\n",
      "\n",
      "\n",
      "Filtering duplicates... #6: 100%|██████████| 1/1 [00:00<00:00, 156.00ba/s]\n",
      "\n",
      "\n",
      "\n",
      "\n",
      "\n",
      "\n",
      "\n",
      "Filtering duplicates... #7: 100%|██████████| 1/1 [00:00<00:00, 139.18ba/s]\n",
      "\n",
      "\n",
      "\n",
      "\n",
      "\n",
      "\n",
      "\n",
      "\n",
      "Filtering duplicates... #8: 100%|██████████| 1/1 [00:00<00:00, 162.53ba/s]\n",
      "\n",
      "\n",
      "\n",
      "\n",
      "\n",
      "\n",
      "\n",
      "\n",
      "\n",
      "Filtering duplicates... #9: 100%|██████████| 1/1 [00:00<00:00, 140.68ba/s]\n",
      "\n",
      "\n",
      "\n",
      "\n",
      "\n",
      "\n",
      "\n",
      "\n",
      "\n",
      "\n",
      "Filtering duplicates... #10: 100%|██████████| 1/1 [00:00<00:00, 138.69ba/s]\n",
      "\n",
      "\n",
      "\n",
      "\n",
      "\n",
      "\n",
      "\n",
      "\n",
      "\n",
      "\n",
      "\n",
      "Filtering duplicates... #11: 100%|██████████| 1/1 [00:00<00:00, 145.31ba/s]\n",
      "\n",
      "\n",
      "\n",
      "\n",
      "\n",
      "\n",
      "\n",
      "\n",
      "\n",
      "\n",
      "\n",
      "\n",
      "Filtering duplicates... #12: 100%|██████████| 1/1 [00:00<00:00, 144.74ba/s]\n",
      "\n",
      "\n",
      "\n",
      "\n",
      "\n",
      "\n",
      "\n",
      "\n",
      "\n",
      "\n",
      "\n",
      "\n",
      "\n",
      "Filtering duplicates... #13: 100%|██████████| 1/1 [00:00<00:00, 157.68ba/s]\n",
      "\n",
      "\n",
      "\n",
      "\n",
      "\n",
      "\n",
      "\n",
      "\n",
      "\n",
      "\n",
      "\n",
      "\n",
      "\n",
      "\n",
      "\u001b[A\u001b[A\u001b[A\u001b[A\u001b[A\u001b[A\u001b[A\u001b[A\u001b[A\u001b[A\u001b[A\u001b[A\u001b[A\u001b[A\n",
      "\n",
      "\n",
      "\n",
      "\n",
      "\n",
      "\n",
      "\n",
      "\n",
      "\n",
      "\n",
      "\n",
      "\n",
      "\n",
      "\n",
      "Filtering duplicates... #14: 100%|██████████| 1/1 [00:00<00:00, 95.45ba/s]\n",
      "Filtering duplicates... #15: 100%|██████████| 1/1 [00:00<00:00, 135.26ba/s]\n",
      "\n",
      "\n",
      "\n",
      "\n",
      "\n",
      "\n",
      "\n",
      "\n",
      "\n",
      "\n",
      "\n",
      "\n",
      "\n",
      "\n",
      "\n",
      "\n",
      "Filtering duplicates... #16: 100%|██████████| 1/1 [00:00<00:00, 136.07ba/s]\n",
      "\n",
      "\n",
      "\n",
      "\n",
      "\n",
      "\n",
      "\n",
      "\n",
      "\n",
      "\n",
      "\n",
      "\n",
      "\n",
      "\n",
      "\n",
      "\n",
      "\n",
      "\u001b[A\u001b[A\u001b[A\u001b[A\u001b[A\u001b[A\u001b[A\u001b[A\u001b[A\u001b[A\u001b[A\u001b[A\u001b[A\u001b[A\u001b[A\u001b[A\u001b[A\n",
      "\n",
      "\n",
      "\n",
      "\n",
      "\n",
      "\n",
      "\n",
      "\n",
      "\n",
      "\n",
      "\n",
      "\n",
      "\n",
      "\n",
      "\n",
      "\n",
      "\n",
      "Filtering duplicates... #17: 100%|██████████| 1/1 [00:00<00:00, 107.33ba/s]\n",
      "Filtering duplicates... #18: 100%|██████████| 1/1 [00:00<00:00, 141.83ba/s]\n",
      "Filtering duplicates... #19: 100%|██████████| 1/1 [00:00<00:00, 139.11ba/s]\n",
      "Filtering duplicates... #20: 100%|██████████| 1/1 [00:00<00:00, 137.10ba/s]\n",
      "Filtering duplicates... #21: 100%|██████████| 1/1 [00:00<00:00, 146.80ba/s]\n",
      "Filtering duplicates... #22: 100%|██████████| 1/1 [00:00<00:00, 147.25ba/s]\n",
      "Filtering duplicates... #23: 100%|██████████| 1/1 [00:00<00:00, 149.84ba/s]\n",
      "Filtering duplicates... #24: 100%|██████████| 1/1 [00:00<00:00, 132.19ba/s]\n",
      "Filtering duplicates... #25: 100%|██████████| 1/1 [00:00<00:00, 24.02ba/s]\n",
      "Filtering duplicates... #30: 100%|██████████| 1/1 [00:00<00:00, 119.37ba/s]\n",
      "Filtering duplicates... #29: 100%|██████████| 1/1 [00:00<00:00, 98.58ba/s]\n",
      "Filtering duplicates... #28: 100%|██████████| 1/1 [00:00<00:00, 85.76ba/s]\n",
      "Filtering duplicates... #26: 100%|██████████| 1/1 [00:00<00:00, 76.09ba/s]\n",
      "Filtering duplicates... #31: 100%|██████████| 1/1 [00:00<00:00, 69.66ba/s]\n",
      "Filtering duplicates... #27: 100%|██████████| 1/1 [00:00<00:00, 62.54ba/s]\n"
     ]
    },
    {
     "data": {
      "text/html": [
       "<pre style=\"white-space:pre;overflow-x:auto;line-height:normal;font-family:Menlo,'DejaVu Sans Mono',consolas,'Courier New',monospace\"><span style=\"color: #7fbfbf; text-decoration-color: #7fbfbf\">[01/24/23 00:41:50] </span><span style=\"color: #000080; text-decoration-color: #000080\">INFO    </span> Data Number                   : <span style=\"color: #008080; text-decoration-color: #008080; font-weight: bold\">10000</span>                                      <a href=\"file:///work/decontamination/decontamination/core.py\" target=\"_blank\"><span style=\"color: #7f7f7f; text-decoration-color: #7f7f7f\">core.py</span></a><span style=\"color: #7f7f7f; text-decoration-color: #7f7f7f\">:</span><a href=\"file:///work/decontamination/decontamination/core.py#277\" target=\"_blank\"><span style=\"color: #7f7f7f; text-decoration-color: #7f7f7f\">277</span></a>\n",
       "</pre>\n"
      ],
      "text/plain": [
       "\u001b[2;36m[01/24/23 00:41:50]\u001b[0m\u001b[2;36m \u001b[0m\u001b[34mINFO    \u001b[0m Data Number                   : \u001b[1;36m10000\u001b[0m                                      \u001b]8;id=822532;file:///work/decontamination/decontamination/core.py\u001b\\\u001b[2mcore.py\u001b[0m\u001b]8;;\u001b\\\u001b[2m:\u001b[0m\u001b]8;id=990663;file:///work/decontamination/decontamination/core.py#277\u001b\\\u001b[2m277\u001b[0m\u001b]8;;\u001b\\\n"
      ]
     },
     "metadata": {},
     "output_type": "display_data"
    },
    {
     "data": {
      "text/html": [
       "<pre style=\"white-space:pre;overflow-x:auto;line-height:normal;font-family:Menlo,'DejaVu Sans Mono',consolas,'Courier New',monospace\"><span style=\"color: #7fbfbf; text-decoration-color: #7fbfbf\">                    </span><span style=\"color: #000080; text-decoration-color: #000080\">INFO    </span> Duplicate Number              : <span style=\"color: #008080; text-decoration-color: #008080; font-weight: bold\">3932</span>                                       <a href=\"file:///work/decontamination/decontamination/core.py\" target=\"_blank\"><span style=\"color: #7f7f7f; text-decoration-color: #7f7f7f\">core.py</span></a><span style=\"color: #7f7f7f; text-decoration-color: #7f7f7f\">:</span><a href=\"file:///work/decontamination/decontamination/core.py#278\" target=\"_blank\"><span style=\"color: #7f7f7f; text-decoration-color: #7f7f7f\">278</span></a>\n",
       "</pre>\n"
      ],
      "text/plain": [
       "\u001b[2;36m                   \u001b[0m\u001b[2;36m \u001b[0m\u001b[34mINFO    \u001b[0m Duplicate Number              : \u001b[1;36m3932\u001b[0m                                       \u001b]8;id=518481;file:///work/decontamination/decontamination/core.py\u001b\\\u001b[2mcore.py\u001b[0m\u001b]8;;\u001b\\\u001b[2m:\u001b[0m\u001b]8;id=191022;file:///work/decontamination/decontamination/core.py#278\u001b\\\u001b[2m278\u001b[0m\u001b]8;;\u001b\\\n"
      ]
     },
     "metadata": {},
     "output_type": "display_data"
    },
    {
     "data": {
      "text/html": [
       "<pre style=\"white-space:pre;overflow-x:auto;line-height:normal;font-family:Menlo,'DejaVu Sans Mono',consolas,'Courier New',monospace\"><span style=\"color: #7fbfbf; text-decoration-color: #7fbfbf\">                    </span><span style=\"color: #000080; text-decoration-color: #000080\">INFO    </span> Duplicate Rate                : <span style=\"color: #008080; text-decoration-color: #008080; font-weight: bold\">39.32</span>%                                     <a href=\"file:///work/decontamination/decontamination/core.py\" target=\"_blank\"><span style=\"color: #7f7f7f; text-decoration-color: #7f7f7f\">core.py</span></a><span style=\"color: #7f7f7f; text-decoration-color: #7f7f7f\">:</span><a href=\"file:///work/decontamination/decontamination/core.py#279\" target=\"_blank\"><span style=\"color: #7f7f7f; text-decoration-color: #7f7f7f\">279</span></a>\n",
       "</pre>\n"
      ],
      "text/plain": [
       "\u001b[2;36m                   \u001b[0m\u001b[2;36m \u001b[0m\u001b[34mINFO    \u001b[0m Duplicate Rate                : \u001b[1;36m39.32\u001b[0m%                                     \u001b]8;id=668584;file:///work/decontamination/decontamination/core.py\u001b\\\u001b[2mcore.py\u001b[0m\u001b]8;;\u001b\\\u001b[2m:\u001b[0m\u001b]8;id=319115;file:///work/decontamination/decontamination/core.py#279\u001b\\\u001b[2m279\u001b[0m\u001b]8;;\u001b\\\n"
      ]
     },
     "metadata": {},
     "output_type": "display_data"
    },
    {
     "data": {
      "text/html": [
       "<pre style=\"white-space:pre;overflow-x:auto;line-height:normal;font-family:Menlo,'DejaVu Sans Mono',consolas,'Courier New',monospace\"><span style=\"color: #7fbfbf; text-decoration-color: #7fbfbf\">                    </span><span style=\"color: #000080; text-decoration-color: #000080\">INFO    </span> Total Time                    : <span style=\"color: #008080; text-decoration-color: #008080; font-weight: bold\">853.66</span> seconds                             <a href=\"file:///work/decontamination/decontamination/core.py\" target=\"_blank\"><span style=\"color: #7f7f7f; text-decoration-color: #7f7f7f\">core.py</span></a><span style=\"color: #7f7f7f; text-decoration-color: #7f7f7f\">:</span><a href=\"file:///work/decontamination/decontamination/core.py#280\" target=\"_blank\"><span style=\"color: #7f7f7f; text-decoration-color: #7f7f7f\">280</span></a>\n",
       "</pre>\n"
      ],
      "text/plain": [
       "\u001b[2;36m                   \u001b[0m\u001b[2;36m \u001b[0m\u001b[34mINFO    \u001b[0m Total Time                    : \u001b[1;36m853.66\u001b[0m seconds                             \u001b]8;id=667389;file:///work/decontamination/decontamination/core.py\u001b\\\u001b[2mcore.py\u001b[0m\u001b]8;;\u001b\\\u001b[2m:\u001b[0m\u001b]8;id=758684;file:///work/decontamination/decontamination/core.py#280\u001b\\\u001b[2m280\u001b[0m\u001b]8;;\u001b\\\n"
      ]
     },
     "metadata": {},
     "output_type": "display_data"
    }
   ],
   "source": [
    "#|eval: false\n",
    "from datasets import load_dataset\n",
    "from decontamination.core import BenchmarkCleaner\n",
    "\n",
    "# load your dataset\n",
    "dataset = load_dataset(\"bigcode/the-stack-smol\", data_dir=\"data/python\", split=\"train\")\n",
    "\n",
    "benchmarks = [\"openai_humaneval\", \"lambada\"]\n",
    "cleaner = BenchmarkCleaner(benchmarks, \"/tmp/benchmarks\", threshold=0.1, num_perm=128)\n",
    "\n",
    "# clean the dataset\n",
    "cleaned_dataset = cleaner.clean(dataset, column=\"content\", check_for_fp=True)"
   ]
  }
 ],
 "metadata": {
  "kernelspec": {
   "display_name": "python3",
   "language": "python",
   "name": "python3"
  }
 },
 "nbformat": 4,
 "nbformat_minor": 4
}
